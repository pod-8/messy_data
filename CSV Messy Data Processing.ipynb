{
 "cells": [
  {
   "cell_type": "code",
   "execution_count": 2,
   "metadata": {},
   "outputs": [],
   "source": [
    "# Import packages required for notebook\n",
    "import pandas as pd"
   ]
  },
  {
   "cell_type": "code",
   "execution_count": 3,
   "metadata": {},
   "outputs": [
    {
     "data": {
      "text/html": [
       "<div>\n",
       "<style scoped>\n",
       "    .dataframe tbody tr th:only-of-type {\n",
       "        vertical-align: middle;\n",
       "    }\n",
       "\n",
       "    .dataframe tbody tr th {\n",
       "        vertical-align: top;\n",
       "    }\n",
       "\n",
       "    .dataframe thead th {\n",
       "        text-align: right;\n",
       "    }\n",
       "</style>\n",
       "<table border=\"1\" class=\"dataframe\">\n",
       "  <thead>\n",
       "    <tr style=\"text-align: right;\">\n",
       "      <th></th>\n",
       "      <th>Person</th>\n",
       "      <th>English</th>\n",
       "      <th>Geography</th>\n",
       "      <th>Mathematics</th>\n",
       "    </tr>\n",
       "  </thead>\n",
       "  <tbody>\n",
       "    <tr>\n",
       "      <th>0</th>\n",
       "      <td>PERSON-001</td>\n",
       "      <td>82/100 (82.0%)</td>\n",
       "      <td>93/130 (71.5%)</td>\n",
       "      <td>77/120 (64.2%)</td>\n",
       "    </tr>\n",
       "    <tr>\n",
       "      <th>1</th>\n",
       "      <td>PERSON-002</td>\n",
       "      <td>96/100 (96.0%)</td>\n",
       "      <td>85/130 (65.4%)</td>\n",
       "      <td>93/120 (77.5%)</td>\n",
       "    </tr>\n",
       "    <tr>\n",
       "      <th>2</th>\n",
       "      <td>PERSON-003</td>\n",
       "      <td>95/100 (95.0%)</td>\n",
       "      <td>83/130 (63.8%)</td>\n",
       "      <td>88/120 (73.3%)</td>\n",
       "    </tr>\n",
       "    <tr>\n",
       "      <th>3</th>\n",
       "      <td>PERSON-004</td>\n",
       "      <td>36/100 (36.0%)</td>\n",
       "      <td>130/130 (100.0%)</td>\n",
       "      <td>88/120 (73.3%)</td>\n",
       "    </tr>\n",
       "    <tr>\n",
       "      <th>4</th>\n",
       "      <td>PERSON-005</td>\n",
       "      <td>59/100 (59.0%)</td>\n",
       "      <td>81/130 (62.3%)</td>\n",
       "      <td>81/120 (67.5%)</td>\n",
       "    </tr>\n",
       "  </tbody>\n",
       "</table>\n",
       "</div>"
      ],
      "text/plain": [
       "       Person         English         Geography     Mathematics\n",
       "0  PERSON-001  82/100 (82.0%)    93/130 (71.5%)  77/120 (64.2%)\n",
       "1  PERSON-002  96/100 (96.0%)    85/130 (65.4%)  93/120 (77.5%)\n",
       "2  PERSON-003  95/100 (95.0%)    83/130 (63.8%)  88/120 (73.3%)\n",
       "3  PERSON-004  36/100 (36.0%)  130/130 (100.0%)  88/120 (73.3%)\n",
       "4  PERSON-005  59/100 (59.0%)    81/130 (62.3%)  81/120 (67.5%)"
      ]
     },
     "execution_count": 3,
     "metadata": {},
     "output_type": "execute_result"
    }
   ],
   "source": [
    "# Read messy_exam_data.csv file and store as messy_data\n",
    "messy_data = pd.read_csv('messy_exam_data.csv')"
   ]
  },
  {
   "cell_type": "code",
   "execution_count": 16,
   "metadata": {},
   "outputs": [
    {
     "data": {
      "text/html": [
       "<div>\n",
       "<style scoped>\n",
       "    .dataframe tbody tr th:only-of-type {\n",
       "        vertical-align: middle;\n",
       "    }\n",
       "\n",
       "    .dataframe tbody tr th {\n",
       "        vertical-align: top;\n",
       "    }\n",
       "\n",
       "    .dataframe thead th {\n",
       "        text-align: right;\n",
       "    }\n",
       "</style>\n",
       "<table border=\"1\" class=\"dataframe\">\n",
       "  <thead>\n",
       "    <tr style=\"text-align: right;\">\n",
       "      <th></th>\n",
       "      <th>Person</th>\n",
       "      <th>Subject</th>\n",
       "      <th>Exam Results</th>\n",
       "    </tr>\n",
       "  </thead>\n",
       "  <tbody>\n",
       "    <tr>\n",
       "      <th>0</th>\n",
       "      <td>PERSON-001</td>\n",
       "      <td>English</td>\n",
       "      <td>82/100 (82.0%)</td>\n",
       "    </tr>\n",
       "    <tr>\n",
       "      <th>1</th>\n",
       "      <td>PERSON-002</td>\n",
       "      <td>English</td>\n",
       "      <td>96/100 (96.0%)</td>\n",
       "    </tr>\n",
       "    <tr>\n",
       "      <th>2</th>\n",
       "      <td>PERSON-003</td>\n",
       "      <td>English</td>\n",
       "      <td>95/100 (95.0%)</td>\n",
       "    </tr>\n",
       "    <tr>\n",
       "      <th>3</th>\n",
       "      <td>PERSON-004</td>\n",
       "      <td>English</td>\n",
       "      <td>36/100 (36.0%)</td>\n",
       "    </tr>\n",
       "    <tr>\n",
       "      <th>4</th>\n",
       "      <td>PERSON-005</td>\n",
       "      <td>English</td>\n",
       "      <td>59/100 (59.0%)</td>\n",
       "    </tr>\n",
       "  </tbody>\n",
       "</table>\n",
       "</div>"
      ],
      "text/plain": [
       "       Person  Subject    Exam Results\n",
       "0  PERSON-001  English  82/100 (82.0%)\n",
       "1  PERSON-002  English  96/100 (96.0%)\n",
       "2  PERSON-003  English  95/100 (95.0%)\n",
       "3  PERSON-004  English  36/100 (36.0%)\n",
       "4  PERSON-005  English  59/100 (59.0%)"
      ]
     },
     "execution_count": 16,
     "metadata": {},
     "output_type": "execute_result"
    }
   ],
   "source": [
    "# Melt all columns which are not 'Person' in to rows and name variable (Subject) and values (Exam Results) columns\n",
    "interim_messy_data = pd.melt(messy_data,id_vars = ['Person'],var_name='Subject', value_name='Exam Results')\n",
    "\n",
    "interim_messy_data.head()\n"
   ]
  },
  {
   "cell_type": "code",
   "execution_count": 15,
   "metadata": {},
   "outputs": [],
   "source": [
    "# Export interim messy data to CSV file\n",
    "interim_messy_data.to_csv('interim_messy_data.csv')"
   ]
  },
  {
   "cell_type": "code",
   "execution_count": null,
   "metadata": {},
   "outputs": [],
   "source": []
  }
 ],
 "metadata": {
  "kernelspec": {
   "display_name": "base",
   "language": "python",
   "name": "python3"
  },
  "language_info": {
   "codemirror_mode": {
    "name": "ipython",
    "version": 3
   },
   "file_extension": ".py",
   "mimetype": "text/x-python",
   "name": "python",
   "nbconvert_exporter": "python",
   "pygments_lexer": "ipython3",
   "version": "3.11.3"
  },
  "orig_nbformat": 4
 },
 "nbformat": 4,
 "nbformat_minor": 2
}
